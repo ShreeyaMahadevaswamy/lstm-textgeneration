{
 "cells": [
  {
   "cell_type": "code",
   "execution_count": 20,
   "metadata": {},
   "outputs": [],
   "source": [
    "import spacy\n",
    "import random\n",
    "import numpy as np\n",
    "import keras\n",
    "import matplotlib.pyplot as plt\n",
    "%matplotlib inline\n",
    "\n",
    "from pickle import dump,load\n",
    "from random import randint\n",
    "\n",
    "from keras.utils import to_categorical\n",
    "from keras.preprocessing.text import Tokenizer\n",
    "from keras.models import Sequential\n",
    "from keras.layers import Dense,LSTM,Embedding\n",
    "from keras.models import load_model\n",
    "from keras.preprocessing.sequence import pad_sequences\n",
    "\n",
    "with open(\"moby_dick_four_chapters.txt\") as f:\n",
    "    doc = f.read()"
   ]
  },
  {
   "cell_type": "code",
   "execution_count": 2,
   "metadata": {},
   "outputs": [],
   "source": [
    "# loading spacy model for preprocessing the text\n",
    "nlp = spacy.load('en_core_web_sm',disable=['parser', 'tagger','ner'])\n",
    "\n",
    "# Gives error if length> 1m so text length needs to be set explicitly\n",
    "nlp.max_length = 1198623"
   ]
  },
  {
   "cell_type": "code",
   "execution_count": 3,
   "metadata": {},
   "outputs": [],
   "source": [
    "# function to clean unnecessary tokens that d cause overfitting\n",
    "\n",
    "def clean_text(doc):\n",
    "    return [token.text.lower() for token in nlp(doc) if token.text not in '\\n\\n \\n\\n\\n!\"-#$%&()--.*+,-/:;<=>?@[\\\\]^_`{|}~\\t\\n ']"
   ]
  },
  {
   "cell_type": "code",
   "execution_count": 4,
   "metadata": {},
   "outputs": [],
   "source": [
    "tokens = clean_text(doc)"
   ]
  },
  {
   "cell_type": "code",
   "execution_count": 5,
   "metadata": {},
   "outputs": [
    {
     "data": {
      "text/plain": [
       "11394"
      ]
     },
     "execution_count": 5,
     "metadata": {},
     "output_type": "execute_result"
    }
   ],
   "source": [
    "len(tokens)"
   ]
  },
  {
   "cell_type": "code",
   "execution_count": 6,
   "metadata": {},
   "outputs": [],
   "source": [
    "# creating sequences of tokens\n",
    "\n",
    "# 25 training words , then one target word\n",
    "train_len = 25+1 \n",
    "\n",
    "text_sequences = []\n",
    "\n",
    "for i in range(train_len, len(tokens)):\n",
    "    \n",
    "    # grabbing train_len 26 words\n",
    "    seq = tokens[i-train_len:i]\n",
    "    \n",
    "    # adding to list of sequences\n",
    "    text_sequences.append(seq)"
   ]
  },
  {
   "cell_type": "code",
   "execution_count": 7,
   "metadata": {},
   "outputs": [
    {
     "data": {
      "text/plain": [
       "11368"
      ]
     },
     "execution_count": 7,
     "metadata": {},
     "output_type": "execute_result"
    }
   ],
   "source": [
    "len(text_sequences)"
   ]
  },
  {
   "cell_type": "code",
   "execution_count": 8,
   "metadata": {},
   "outputs": [
    {
     "data": {
      "text/plain": [
       "['call',\n",
       " 'me',\n",
       " 'ishmael',\n",
       " 'some',\n",
       " 'years',\n",
       " 'ago',\n",
       " 'never',\n",
       " 'mind',\n",
       " 'how',\n",
       " 'long',\n",
       " 'precisely',\n",
       " 'having',\n",
       " 'little',\n",
       " 'or',\n",
       " 'no',\n",
       " 'money',\n",
       " 'in',\n",
       " 'my',\n",
       " 'purse',\n",
       " 'and',\n",
       " 'nothing',\n",
       " 'particular',\n",
       " 'to',\n",
       " 'interest',\n",
       " 'me',\n",
       " 'on']"
      ]
     },
     "execution_count": 8,
     "metadata": {},
     "output_type": "execute_result"
    }
   ],
   "source": [
    "text_sequences[0]"
   ]
  },
  {
   "cell_type": "code",
   "execution_count": 9,
   "metadata": {},
   "outputs": [],
   "source": [
    "# integer encoding words in sequences\n",
    "tokenizer = Tokenizer()\n",
    "tokenizer.fit_on_texts(text_sequences)\n",
    "sequences = tokenizer.texts_to_sequences(text_sequences)"
   ]
  },
  {
   "cell_type": "code",
   "execution_count": 10,
   "metadata": {},
   "outputs": [
    {
     "data": {
      "text/plain": [
       "array([[ 964,   14,  265,   51,  263,  416,   87,  222,  129,  111],\n",
       "       [  14,  265,   51,  263,  416,   87,  222,  129,  111,  962],\n",
       "       [ 265,   51,  263,  416,   87,  222,  129,  111,  962,  262],\n",
       "       [  51,  263,  416,   87,  222,  129,  111,  962,  262,   50],\n",
       "       [ 263,  416,   87,  222,  129,  111,  962,  262,   50,   43],\n",
       "       [ 416,   87,  222,  129,  111,  962,  262,   50,   43,   37],\n",
       "       [  87,  222,  129,  111,  962,  262,   50,   43,   37,  321],\n",
       "       [ 222,  129,  111,  962,  262,   50,   43,   37,  321,    7],\n",
       "       [ 129,  111,  962,  262,   50,   43,   37,  321,    7,   23],\n",
       "       [ 111,  962,  262,   50,   43,   37,  321,    7,   23,  555],\n",
       "       [ 962,  262,   50,   43,   37,  321,    7,   23,  555,    3],\n",
       "       [ 262,   50,   43,   37,  321,    7,   23,  555,    3,  150],\n",
       "       [  50,   43,   37,  321,    7,   23,  555,    3,  150,  261],\n",
       "       [  43,   37,  321,    7,   23,  555,    3,  150,  261,    6],\n",
       "       [  37,  321,    7,   23,  555,    3,  150,  261,    6, 2704],\n",
       "       [ 321,    7,   23,  555,    3,  150,  261,    6, 2704,   14],\n",
       "       [   7,   23,  555,    3,  150,  261,    6, 2704,   14,   24],\n",
       "       [  23,  555,    3,  150,  261,    6, 2704,   14,   24,  965],\n",
       "       [ 555,    3,  150,  261,    6, 2704,   14,   24,  965,    5],\n",
       "       [   3,  150,  261,    6, 2704,   14,   24,  965,    5,   60],\n",
       "       [ 150,  261,    6, 2704,   14,   24,  965,    5,   60,    5],\n",
       "       [ 261,    6, 2704,   14,   24,  965,    5,   60,    5,   56],\n",
       "       [   6, 2704,   14,   24,  965,    5,   60,    5,   56,  322],\n",
       "       [2704,   14,   24,  965,    5,   60,    5,   56,  322,   38],\n",
       "       [  14,   24,  965,    5,   60,    5,   56,  322,   38,    2],\n",
       "       [  24,  965,    5,   60,    5,   56,  322,   38,    2,   50]])"
      ]
     },
     "execution_count": 10,
     "metadata": {},
     "output_type": "execute_result"
    }
   ],
   "source": [
    "# replaced words in text with particular ids \n",
    "# sequences with shifting one word over\n",
    "sequences = np.array(sequences)\n",
    "sequences[:10].T"
   ]
  },
  {
   "cell_type": "code",
   "execution_count": 11,
   "metadata": {},
   "outputs": [],
   "source": [
    "# splitting training and target sequences\n",
    "X = sequences[:,:-1]\n",
    "y = sequences[:,-1]"
   ]
  },
  {
   "cell_type": "code",
   "execution_count": 12,
   "metadata": {},
   "outputs": [
    {
     "data": {
      "text/plain": [
       "2709"
      ]
     },
     "execution_count": 12,
     "metadata": {},
     "output_type": "execute_result"
    }
   ],
   "source": [
    "vocabulary_size = len(tokenizer.word_counts)\n",
    "vocabulary_size"
   ]
  },
  {
   "cell_type": "code",
   "execution_count": 13,
   "metadata": {},
   "outputs": [],
   "source": [
    "# keras padding sequences need an extra space to hold zero\n",
    "y = to_categorical(y, num_classes=vocabulary_size+1) "
   ]
  },
  {
   "cell_type": "code",
   "execution_count": 14,
   "metadata": {},
   "outputs": [],
   "source": [
    "seq_len = X.shape[1] # setting seq_len = 25"
   ]
  },
  {
   "cell_type": "code",
   "execution_count": 15,
   "metadata": {},
   "outputs": [],
   "source": [
    "def create_model(vocabulary_size, seq_len):\n",
    "    model = Sequential()\n",
    "    model.add(Embedding(input_dim=vocabulary_size+1,output_dim=seq_len,input_length=seq_len))\n",
    "    model.add(LSTM(seq_len*2, return_sequences=True))\n",
    "    model.add(LSTM(seq_len*2))\n",
    "    model.add(Dense(seq_len*6, activation='relu'))\n",
    "\n",
    "    model.add(Dense(vocabulary_size+1, activation='softmax'))\n",
    "    \n",
    "    model.compile(loss='categorical_crossentropy', optimizer='adam', metrics=['accuracy'])\n",
    "   \n",
    "    model.summary()\n",
    "    \n",
    "    return model"
   ]
  },
  {
   "cell_type": "code",
   "execution_count": 16,
   "metadata": {},
   "outputs": [
    {
     "name": "stdout",
     "output_type": "stream",
     "text": [
      "WARNING:tensorflow:From C:\\Users\\WorkPC\\Anaconda3\\envs\\nlp_course\\lib\\site-packages\\tensorflow\\python\\framework\\op_def_library.py:263: colocate_with (from tensorflow.python.framework.ops) is deprecated and will be removed in a future version.\n",
      "Instructions for updating:\n",
      "Colocations handled automatically by placer.\n",
      "_________________________________________________________________\n",
      "Layer (type)                 Output Shape              Param #   \n",
      "=================================================================\n",
      "embedding_1 (Embedding)      (None, 25, 25)            67750     \n",
      "_________________________________________________________________\n",
      "lstm_1 (LSTM)                (None, 25, 50)            15200     \n",
      "_________________________________________________________________\n",
      "lstm_2 (LSTM)                (None, 50)                20200     \n",
      "_________________________________________________________________\n",
      "dense_1 (Dense)              (None, 150)               7650      \n",
      "_________________________________________________________________\n",
      "dense_2 (Dense)              (None, 2710)              409210    \n",
      "=================================================================\n",
      "Total params: 520,010\n",
      "Trainable params: 520,010\n",
      "Non-trainable params: 0\n",
      "_________________________________________________________________\n"
     ]
    }
   ],
   "source": [
    "model = create_model(vocabulary_size,seq_len)"
   ]
  },
  {
   "cell_type": "code",
   "execution_count": 18,
   "metadata": {},
   "outputs": [
    {
     "name": "stdout",
     "output_type": "stream",
     "text": [
      "Epoch 1/200\n",
      "11368/11368 [==============================] - 4s 347us/step - loss: 6.2718 - acc: 0.0527\n",
      "Epoch 2/200\n",
      "11368/11368 [==============================] - 4s 346us/step - loss: 6.1578 - acc: 0.0527\n",
      "Epoch 3/200\n",
      "11368/11368 [==============================] - 4s 353us/step - loss: 6.0933 - acc: 0.0527 1s - loss: 6.0998 - acc: 0.05 - ETA: 1s - loss: \n",
      "Epoch 4/200\n",
      "11368/11368 [==============================] - 4s 348us/step - loss: 5.9862 - acc: 0.0544\n",
      "Epoch 5/200\n",
      "11368/11368 [==============================] - 4s 353us/step - loss: 5.8850 - acc: 0.0560\n",
      "Epoch 6/200\n",
      "11368/11368 [==============================] - 5s 400us/step - loss: 5.8134 - acc: 0.0663\n",
      "Epoch 7/200\n",
      "11368/11368 [==============================] - 5s 415us/step - loss: 5.7466 - acc: 0.0669\n",
      "Epoch 8/200\n",
      "11368/11368 [==============================] - 5s 423us/step - loss: 5.6895 - acc: 0.0678\n",
      "Epoch 9/200\n",
      "11368/11368 [==============================] - 5s 405us/step - loss: 5.6288 - acc: 0.0704\n",
      "Epoch 10/200\n",
      "11368/11368 [==============================] - 5s 404us/step - loss: 5.5537 - acc: 0.0742\n",
      "Epoch 11/200\n",
      "11368/11368 [==============================] - 5s 408us/step - loss: 5.4863 - acc: 0.0733\n",
      "Epoch 12/200\n",
      "11368/11368 [==============================] - 5s 405us/step - loss: 5.4188 - acc: 0.0760\n",
      "Epoch 13/200\n",
      "11368/11368 [==============================] - 5s 405us/step - loss: 5.3513 - acc: 0.0786\n",
      "Epoch 14/200\n",
      "11368/11368 [==============================] - 5s 404us/step - loss: 5.2812 - acc: 0.0795\n",
      "Epoch 15/200\n",
      "11368/11368 [==============================] - 5s 407us/step - loss: 5.2175 - acc: 0.0815\n",
      "Epoch 16/200\n",
      "11368/11368 [==============================] - 5s 404us/step - loss: 5.1579 - acc: 0.0819\n",
      "Epoch 17/200\n",
      "11368/11368 [==============================] - 5s 405us/step - loss: 5.0995 - acc: 0.0848\n",
      "Epoch 18/200\n",
      "11368/11368 [==============================] - 5s 414us/step - loss: 5.0479 - acc: 0.0852\n",
      "Epoch 19/200\n",
      "11368/11368 [==============================] - 5s 407us/step - loss: 4.9957 - acc: 0.0865\n",
      "Epoch 20/200\n",
      "11368/11368 [==============================] - 5s 406us/step - loss: 4.9477 - acc: 0.0895\n",
      "Epoch 21/200\n",
      "11368/11368 [==============================] - 5s 409us/step - loss: 4.9006 - acc: 0.0903\n",
      "Epoch 22/200\n",
      "11368/11368 [==============================] - 5s 424us/step - loss: 4.8540 - acc: 0.0926\n",
      "Epoch 23/200\n",
      "11368/11368 [==============================] - 5s 406us/step - loss: 4.8050 - acc: 0.0932\n",
      "Epoch 24/200\n",
      "11368/11368 [==============================] - 5s 404us/step - loss: 4.7592 - acc: 0.0949\n",
      "Epoch 25/200\n",
      "11368/11368 [==============================] - 5s 407us/step - loss: 4.7158 - acc: 0.0966\n",
      "Epoch 26/200\n",
      "11368/11368 [==============================] - 5s 406us/step - loss: 4.6650 - acc: 0.0979\n",
      "Epoch 27/200\n",
      "11368/11368 [==============================] - 5s 408us/step - loss: 4.6197 - acc: 0.1000\n",
      "Epoch 28/200\n",
      "11368/11368 [==============================] - 5s 406us/step - loss: 4.5802 - acc: 0.1005\n",
      "Epoch 29/200\n",
      "11368/11368 [==============================] - 5s 407us/step - loss: 4.5378 - acc: 0.1013\n",
      "Epoch 30/200\n",
      "11368/11368 [==============================] - 5s 408us/step - loss: 4.5007 - acc: 0.1027\n",
      "Epoch 31/200\n",
      "11368/11368 [==============================] - 5s 415us/step - loss: 4.4578 - acc: 0.1018\n",
      "Epoch 32/200\n",
      "11368/11368 [==============================] - 5s 406us/step - loss: 4.4202 - acc: 0.1044\n",
      "Epoch 33/200\n",
      "11368/11368 [==============================] - 5s 408us/step - loss: 4.3940 - acc: 0.1042\n",
      "Epoch 34/200\n",
      "11368/11368 [==============================] - 5s 408us/step - loss: 4.3468 - acc: 0.1090\n",
      "Epoch 35/200\n",
      "11368/11368 [==============================] - 5s 408us/step - loss: 4.3100 - acc: 0.1064\n",
      "Epoch 36/200\n",
      "11368/11368 [==============================] - 5s 429us/step - loss: 4.2822 - acc: 0.1122\n",
      "Epoch 37/200\n",
      "11368/11368 [==============================] - 5s 413us/step - loss: 4.2429 - acc: 0.1137\n",
      "Epoch 38/200\n",
      "11368/11368 [==============================] - 5s 410us/step - loss: 4.2022 - acc: 0.1169\n",
      "Epoch 39/200\n",
      "11368/11368 [==============================] - 5s 407us/step - loss: 4.1701 - acc: 0.1201\n",
      "Epoch 40/200\n",
      "11368/11368 [==============================] - 5s 407us/step - loss: 4.1379 - acc: 0.1207\n",
      "Epoch 41/200\n",
      "11368/11368 [==============================] - 5s 407us/step - loss: 4.0930 - acc: 0.1281\n",
      "Epoch 42/200\n",
      "11368/11368 [==============================] - 5s 407us/step - loss: 4.0613 - acc: 0.1335\n",
      "Epoch 43/200\n",
      "11368/11368 [==============================] - 5s 411us/step - loss: 4.0263 - acc: 0.1329\n",
      "Epoch 44/200\n",
      "11368/11368 [==============================] - 5s 415us/step - loss: 3.9893 - acc: 0.1392\n",
      "Epoch 45/200\n",
      "11368/11368 [==============================] - 5s 408us/step - loss: 3.9532 - acc: 0.1387\n",
      "Epoch 46/200\n",
      "11368/11368 [==============================] - 5s 409us/step - loss: 3.9154 - acc: 0.1475\n",
      "Epoch 47/200\n",
      "11368/11368 [==============================] - 5s 410us/step - loss: 3.8836 - acc: 0.1512\n",
      "Epoch 48/200\n",
      "11368/11368 [==============================] - 5s 409us/step - loss: 3.8466 - acc: 0.1568\n",
      "Epoch 49/200\n",
      "11368/11368 [==============================] - 5s 407us/step - loss: 3.8031 - acc: 0.1595\n",
      "Epoch 50/200\n",
      "11368/11368 [==============================] - 5s 434us/step - loss: 3.7716 - acc: 0.1670\n",
      "Epoch 51/200\n",
      "11368/11368 [==============================] - 5s 412us/step - loss: 3.7356 - acc: 0.1714\n",
      "Epoch 52/200\n",
      "11368/11368 [==============================] - 5s 409us/step - loss: 3.6925 - acc: 0.1747\n",
      "Epoch 53/200\n",
      "11368/11368 [==============================] - 5s 410us/step - loss: 3.6481 - acc: 0.1841\n",
      "Epoch 54/200\n",
      "11368/11368 [==============================] - 5s 411us/step - loss: 3.6120 - acc: 0.1896\n",
      "Epoch 55/200\n",
      "11368/11368 [==============================] - 5s 413us/step - loss: 3.5755 - acc: 0.1935\n",
      "Epoch 56/200\n",
      "11368/11368 [==============================] - 5s 418us/step - loss: 3.5373 - acc: 0.2003\n",
      "Epoch 57/200\n",
      "11368/11368 [==============================] - 5s 415us/step - loss: 3.4996 - acc: 0.2094\n",
      "Epoch 58/200\n",
      "11368/11368 [==============================] - 5s 412us/step - loss: 3.4562 - acc: 0.2153\n",
      "Epoch 59/200\n",
      "11368/11368 [==============================] - 5s 411us/step - loss: 3.4297 - acc: 0.2185\n",
      "Epoch 60/200\n",
      "11368/11368 [==============================] - 5s 412us/step - loss: 3.3940 - acc: 0.2237\n",
      "Epoch 61/200\n",
      "11368/11368 [==============================] - 5s 413us/step - loss: 3.3480 - acc: 0.2320\n",
      "Epoch 62/200\n",
      "11368/11368 [==============================] - 5s 414us/step - loss: 3.3131 - acc: 0.2381\n",
      "Epoch 63/200\n",
      "11368/11368 [==============================] - 5s 414us/step - loss: 3.2817 - acc: 0.2447\n",
      "Epoch 64/200\n",
      "11368/11368 [==============================] - 5s 438us/step - loss: 3.2472 - acc: 0.2498\n",
      "Epoch 65/200\n",
      "11368/11368 [==============================] - 5s 414us/step - loss: 3.2080 - acc: 0.2573\n",
      "Epoch 66/200\n",
      "11368/11368 [==============================] - 5s 413us/step - loss: 3.1728 - acc: 0.2647\n",
      "Epoch 67/200\n",
      "11368/11368 [==============================] - 5s 416us/step - loss: 3.1370 - acc: 0.2667\n",
      "Epoch 68/200\n",
      "11368/11368 [==============================] - 5s 414us/step - loss: 3.1040 - acc: 0.2729\n",
      "Epoch 69/200\n",
      "11368/11368 [==============================] - 5s 424us/step - loss: 3.0714 - acc: 0.2816\n",
      "Epoch 70/200\n",
      "11368/11368 [==============================] - 5s 416us/step - loss: 3.0405 - acc: 0.2883\n",
      "Epoch 71/200\n",
      "11368/11368 [==============================] - 5s 417us/step - loss: 3.0012 - acc: 0.2883\n",
      "Epoch 72/200\n",
      "11368/11368 [==============================] - 5s 418us/step - loss: 2.9650 - acc: 0.2999\n",
      "Epoch 73/200\n",
      "11368/11368 [==============================] - 5s 420us/step - loss: 2.9274 - acc: 0.3110\n",
      "Epoch 74/200\n",
      "11368/11368 [==============================] - 5s 421us/step - loss: 2.8970 - acc: 0.3164\n",
      "Epoch 75/200\n",
      "11368/11368 [==============================] - 5s 422us/step - loss: 2.8673 - acc: 0.3200\n",
      "Epoch 76/200\n",
      "11368/11368 [==============================] - 5s 423us/step - loss: 2.8353 - acc: 0.3247\n",
      "Epoch 77/200\n",
      "11368/11368 [==============================] - 5s 433us/step - loss: 2.7950 - acc: 0.3365\n",
      "Epoch 78/200\n",
      "11368/11368 [==============================] - 5s 443us/step - loss: 2.7593 - acc: 0.3421\n",
      "Epoch 79/200\n",
      "11368/11368 [==============================] - 5s 429us/step - loss: 2.7199 - acc: 0.3529\n",
      "Epoch 80/200\n"
     ]
    },
    {
     "name": "stdout",
     "output_type": "stream",
     "text": [
      "11368/11368 [==============================] - 5s 422us/step - loss: 2.6877 - acc: 0.3557\n",
      "Epoch 81/200\n",
      "11368/11368 [==============================] - 5s 428us/step - loss: 2.6665 - acc: 0.3588\n",
      "Epoch 82/200\n",
      "11368/11368 [==============================] - 5s 431us/step - loss: 2.6380 - acc: 0.3629\n",
      "Epoch 83/200\n",
      "11368/11368 [==============================] - 5s 429us/step - loss: 2.6052 - acc: 0.3681\n",
      "Epoch 84/200\n",
      "11368/11368 [==============================] - 5s 432us/step - loss: 2.5736 - acc: 0.3757\n",
      "Epoch 85/200\n",
      "11368/11368 [==============================] - 5s 445us/step - loss: 2.5422 - acc: 0.3836\n",
      "Epoch 86/200\n",
      "11368/11368 [==============================] - 5s 449us/step - loss: 2.5100 - acc: 0.3841\n",
      "Epoch 87/200\n",
      "11368/11368 [==============================] - 5s 453us/step - loss: 2.4780 - acc: 0.4007\n",
      "Epoch 88/200\n",
      "11368/11368 [==============================] - 5s 459us/step - loss: 2.4604 - acc: 0.3987\n",
      "Epoch 89/200\n",
      "11368/11368 [==============================] - 5s 453us/step - loss: 2.4346 - acc: 0.4063\n",
      "Epoch 90/200\n",
      "11368/11368 [==============================] - 5s 446us/step - loss: 2.3984 - acc: 0.4138\n",
      "Epoch 91/200\n",
      "11368/11368 [==============================] - 6s 514us/step - loss: 2.3724 - acc: 0.4183\n",
      "Epoch 92/200\n",
      "11368/11368 [==============================] - 5s 456us/step - loss: 2.3526 - acc: 0.4187\n",
      "Epoch 93/200\n",
      "11368/11368 [==============================] - 5s 471us/step - loss: 2.3203 - acc: 0.4302\n",
      "Epoch 94/200\n",
      "11368/11368 [==============================] - 5s 458us/step - loss: 2.2900 - acc: 0.4337 1s - l\n",
      "Epoch 95/200\n",
      "11368/11368 [==============================] - 5s 459us/step - loss: 2.2551 - acc: 0.4424\n",
      "Epoch 96/200\n",
      "11368/11368 [==============================] - 5s 464us/step - loss: 2.2350 - acc: 0.4502 1s -\n",
      "Epoch 97/200\n",
      "11368/11368 [==============================] - 5s 472us/step - loss: 2.2194 - acc: 0.4502 0s - loss: 2.2186 - acc: 0.\n",
      "Epoch 98/200\n",
      "11368/11368 [==============================] - 5s 470us/step - loss: 2.1990 - acc: 0.4489 1s - lo\n",
      "Epoch 99/200\n",
      "11368/11368 [==============================] - 5s 479us/step - loss: 2.1673 - acc: 0.4578\n",
      "Epoch 100/200\n",
      "11368/11368 [==============================] - 5s 483us/step - loss: 2.1407 - acc: 0.4668 0s - loss: 2.1301 \n",
      "Epoch 101/200\n",
      "11368/11368 [==============================] - 6s 491us/step - loss: 2.1193 - acc: 0.4726\n",
      "Epoch 102/200\n",
      "11368/11368 [==============================] - 6s 498us/step - loss: 2.0918 - acc: 0.4784\n",
      "Epoch 103/200\n",
      "11368/11368 [==============================] - 6s 516us/step - loss: 2.0822 - acc: 0.4828 1s - loss: 2\n",
      "Epoch 104/200\n",
      "11368/11368 [==============================] - 6s 502us/step - loss: 2.0510 - acc: 0.4862\n",
      "Epoch 105/200\n",
      "11368/11368 [==============================] - 6s 505us/step - loss: 2.0276 - acc: 0.4934\n",
      "Epoch 106/200\n",
      "11368/11368 [==============================] - 6s 503us/step - loss: 2.0122 - acc: 0.4963\n",
      "Epoch 107/200\n",
      "11368/11368 [==============================] - 6s 520us/step - loss: 1.9804 - acc: 0.5043\n",
      "Epoch 108/200\n",
      "11368/11368 [==============================] - 6s 517us/step - loss: 1.9611 - acc: 0.5066\n",
      "Epoch 109/200\n",
      "11368/11368 [==============================] - 6s 539us/step - loss: 1.9341 - acc: 0.5143\n",
      "Epoch 110/200\n",
      "11368/11368 [==============================] - 6s 540us/step - loss: 1.9220 - acc: 0.5154\n",
      "Epoch 111/200\n",
      "11368/11368 [==============================] - 6s 550us/step - loss: 1.9083 - acc: 0.5157\n",
      "Epoch 112/200\n",
      "11368/11368 [==============================] - 6s 547us/step - loss: 1.8830 - acc: 0.5257\n",
      "Epoch 113/200\n",
      "11368/11368 [==============================] - 6s 549us/step - loss: 1.8615 - acc: 0.5323\n",
      "Epoch 114/200\n",
      "11368/11368 [==============================] - 7s 577us/step - loss: 1.8443 - acc: 0.5277\n",
      "Epoch 115/200\n",
      "11368/11368 [==============================] - 6s 561us/step - loss: 1.8108 - acc: 0.5384\n",
      "Epoch 116/200\n",
      "11368/11368 [==============================] - 6s 566us/step - loss: 1.7933 - acc: 0.5445\n",
      "Epoch 117/200\n",
      "11368/11368 [==============================] - 6s 569us/step - loss: 1.7872 - acc: 0.5436\n",
      "Epoch 118/200\n",
      "11368/11368 [==============================] - 7s 575us/step - loss: 1.7650 - acc: 0.5503\n",
      "Epoch 119/200\n",
      "11368/11368 [==============================] - 7s 580us/step - loss: 1.7594 - acc: 0.5514\n",
      "Epoch 120/200\n",
      "11368/11368 [==============================] - 7s 589us/step - loss: 1.7321 - acc: 0.5559\n",
      "Epoch 121/200\n",
      "11368/11368 [==============================] - 7s 589us/step - loss: 1.7134 - acc: 0.5596\n",
      "Epoch 122/200\n",
      "11368/11368 [==============================] - 7s 594us/step - loss: 1.6821 - acc: 0.5674\n",
      "Epoch 123/200\n",
      "11368/11368 [==============================] - 7s 601us/step - loss: 1.6654 - acc: 0.5753\n",
      "Epoch 124/200\n",
      "11368/11368 [==============================] - 7s 627us/step - loss: 1.6479 - acc: 0.5751\n",
      "Epoch 125/200\n",
      "11368/11368 [==============================] - 7s 612us/step - loss: 1.6269 - acc: 0.5802\n",
      "Epoch 126/200\n",
      "11368/11368 [==============================] - 7s 614us/step - loss: 1.6220 - acc: 0.5825\n",
      "Epoch 127/200\n",
      "11368/11368 [==============================] - 7s 625us/step - loss: 1.6190 - acc: 0.5814\n",
      "Epoch 128/200\n",
      "11368/11368 [==============================] - 7s 625us/step - loss: 1.5814 - acc: 0.5926\n",
      "Epoch 129/200\n",
      "11368/11368 [==============================] - 7s 631us/step - loss: 1.5613 - acc: 0.5990\n",
      "Epoch 130/200\n",
      "11368/11368 [==============================] - 7s 636us/step - loss: 1.5599 - acc: 0.5986\n",
      "Epoch 131/200\n",
      "11368/11368 [==============================] - 7s 638us/step - loss: 1.5490 - acc: 0.5981\n",
      "Epoch 132/200\n",
      "11368/11368 [==============================] - 7s 645us/step - loss: 1.5222 - acc: 0.6078\n",
      "Epoch 133/200\n",
      "11368/11368 [==============================] - 8s 673us/step - loss: 1.5053 - acc: 0.6136\n",
      "Epoch 134/200\n",
      "11368/11368 [==============================] - 7s 652us/step - loss: 1.4830 - acc: 0.6145\n",
      "Epoch 135/200\n",
      "11368/11368 [==============================] - 7s 658us/step - loss: 1.4760 - acc: 0.6217\n",
      "Epoch 136/200\n",
      "11368/11368 [==============================] - 8s 661us/step - loss: 1.4573 - acc: 0.6227\n",
      "Epoch 137/200\n",
      "11368/11368 [==============================] - 8s 669us/step - loss: 1.4376 - acc: 0.6274\n",
      "Epoch 138/200\n",
      "11368/11368 [==============================] - 8s 670us/step - loss: 1.4352 - acc: 0.6276\n",
      "Epoch 139/200\n",
      "11368/11368 [==============================] - 8s 680us/step - loss: 1.4106 - acc: 0.6371\n",
      "Epoch 140/200\n",
      "11368/11368 [==============================] - 8s 679us/step - loss: 1.3964 - acc: 0.6402\n",
      "Epoch 141/200\n",
      "11368/11368 [==============================] - 8s 687us/step - loss: 1.3837 - acc: 0.6407\n",
      "Epoch 142/200\n",
      "11368/11368 [==============================] - 8s 707us/step - loss: 1.3626 - acc: 0.6511\n",
      "Epoch 143/200\n",
      "11368/11368 [==============================] - 8s 703us/step - loss: 1.3484 - acc: 0.6514\n",
      "Epoch 144/200\n",
      "11368/11368 [==============================] - 8s 697us/step - loss: 1.3265 - acc: 0.6620\n",
      "Epoch 145/200\n",
      "11368/11368 [==============================] - 8s 702us/step - loss: 1.3188 - acc: 0.6577\n",
      "Epoch 146/200\n",
      "11368/11368 [==============================] - 8s 709us/step - loss: 1.3003 - acc: 0.6632\n",
      "Epoch 147/200\n",
      "11368/11368 [==============================] - 8s 713us/step - loss: 1.2915 - acc: 0.6610\n",
      "Epoch 148/200\n",
      "11368/11368 [==============================] - 8s 715us/step - loss: 1.2811 - acc: 0.6657\n",
      "Epoch 149/200\n",
      "11368/11368 [==============================] - 8s 719us/step - loss: 1.2535 - acc: 0.6725\n",
      "Epoch 150/200\n",
      "11368/11368 [==============================] - 8s 741us/step - loss: 1.2344 - acc: 0.6798\n",
      "Epoch 151/200\n",
      "11368/11368 [==============================] - 8s 729us/step - loss: 1.2433 - acc: 0.6769\n",
      "Epoch 152/200\n",
      "11368/11368 [==============================] - 8s 729us/step - loss: 1.2246 - acc: 0.6784\n",
      "Epoch 153/200\n",
      "11368/11368 [==============================] - 8s 735us/step - loss: 1.2053 - acc: 0.6875\n",
      "Epoch 154/200\n",
      "11368/11368 [==============================] - 8s 737us/step - loss: 1.1867 - acc: 0.6939\n",
      "Epoch 155/200\n",
      "11368/11368 [==============================] - ETA: 0s - loss: 1.1708 - acc: 0.694 - 8s 740us/step - loss: 1.1752 - acc: 0.6937\n",
      "Epoch 156/200\n",
      "11368/11368 [==============================] - 8s 745us/step - loss: 1.1628 - acc: 0.6961\n",
      "Epoch 157/200\n",
      "11368/11368 [==============================] - 9s 751us/step - loss: 1.1512 - acc: 0.7007\n"
     ]
    },
    {
     "name": "stdout",
     "output_type": "stream",
     "text": [
      "Epoch 158/200\n",
      "11368/11368 [==============================] - 9s 759us/step - loss: 1.1385 - acc: 0.7050\n",
      "Epoch 159/200\n",
      "11368/11368 [==============================] - 9s 757us/step - loss: 1.1145 - acc: 0.7114\n",
      "Epoch 160/200\n",
      "11368/11368 [==============================] - 9s 758us/step - loss: 1.1062 - acc: 0.7135\n",
      "Epoch 161/200\n",
      "11368/11368 [==============================] - 9s 760us/step - loss: 1.0955 - acc: 0.7168\n",
      "Epoch 162/200\n",
      "11368/11368 [==============================] - 9s 763us/step - loss: 1.0783 - acc: 0.7222\n",
      "Epoch 163/200\n",
      "11368/11368 [==============================] - 9s 766us/step - loss: 1.0932 - acc: 0.7169\n",
      "Epoch 164/200\n",
      "11368/11368 [==============================] - 9s 772us/step - loss: 1.0596 - acc: 0.7247\n",
      "Epoch 165/200\n",
      "11368/11368 [==============================] - 9s 787us/step - loss: 1.0647 - acc: 0.7196\n",
      "Epoch 166/200\n",
      "11368/11368 [==============================] - 9s 783us/step - loss: 1.0324 - acc: 0.7308\n",
      "Epoch 167/200\n",
      "11368/11368 [==============================] - 9s 776us/step - loss: 1.0327 - acc: 0.7319\n",
      "Epoch 168/200\n",
      "11368/11368 [==============================] - 9s 777us/step - loss: 1.0077 - acc: 0.7424\n",
      "Epoch 169/200\n",
      "11368/11368 [==============================] - 9s 782us/step - loss: 0.9970 - acc: 0.7423\n",
      "Epoch 170/200\n",
      "11368/11368 [==============================] - 9s 786us/step - loss: 0.9788 - acc: 0.7482\n",
      "Epoch 171/200\n",
      "11368/11368 [==============================] - 9s 788us/step - loss: 0.9722 - acc: 0.7486\n",
      "Epoch 172/200\n",
      "11368/11368 [==============================] - 9s 799us/step - loss: 0.9580 - acc: 0.7542\n",
      "Epoch 173/200\n",
      "11368/11368 [==============================] - 9s 803us/step - loss: 0.9364 - acc: 0.7588\n",
      "Epoch 174/200\n",
      "11368/11368 [==============================] - 9s 797us/step - loss: 0.9430 - acc: 0.7540\n",
      "Epoch 175/200\n",
      "11368/11368 [==============================] - 9s 800us/step - loss: 0.9326 - acc: 0.7580\n",
      "Epoch 176/200\n",
      "11368/11368 [==============================] - 9s 801us/step - loss: 0.9174 - acc: 0.7650\n",
      "Epoch 177/200\n",
      "11368/11368 [==============================] - 9s 808us/step - loss: 0.9085 - acc: 0.7623\n",
      "Epoch 178/200\n",
      "11368/11368 [==============================] - 9s 807us/step - loss: 0.9098 - acc: 0.7643\n",
      "Epoch 179/200\n",
      "11368/11368 [==============================] - 9s 813us/step - loss: 0.8815 - acc: 0.7724\n",
      "Epoch 180/200\n",
      "11368/11368 [==============================] - 9s 832us/step - loss: 0.8863 - acc: 0.7662\n",
      "Epoch 181/200\n",
      "11368/11368 [==============================] - 9s 819us/step - loss: 0.8584 - acc: 0.7823\n",
      "Epoch 182/200\n",
      "11368/11368 [==============================] - 9s 830us/step - loss: 0.8438 - acc: 0.7869\n",
      "Epoch 183/200\n",
      "11368/11368 [==============================] - 9s 833us/step - loss: 0.8316 - acc: 0.7882\n",
      "Epoch 184/200\n",
      "11368/11368 [==============================] - 10s 890us/step - loss: 0.8176 - acc: 0.7910\n",
      "Epoch 185/200\n",
      "11368/11368 [==============================] - 10s 874us/step - loss: 0.8102 - acc: 0.7945\n",
      "Epoch 186/200\n",
      "11368/11368 [==============================] - 10s 906us/step - loss: 0.8037 - acc: 0.7943\n",
      "Epoch 187/200\n",
      "11368/11368 [==============================] - 10s 878us/step - loss: 0.8156 - acc: 0.7896\n",
      "Epoch 188/200\n",
      "11368/11368 [==============================] - 10s 846us/step - loss: 0.8106 - acc: 0.7899\n",
      "Epoch 189/200\n",
      "11368/11368 [==============================] - 10s 842us/step - loss: 0.7830 - acc: 0.7993\n",
      "Epoch 190/200\n",
      "11368/11368 [==============================] - 10s 837us/step - loss: 0.7918 - acc: 0.7964\n",
      "Epoch 191/200\n",
      "11368/11368 [==============================] - 10s 842us/step - loss: 0.7774 - acc: 0.7985\n",
      "Epoch 192/200\n",
      "11368/11368 [==============================] - 10s 854us/step - loss: 0.7435 - acc: 0.8118\n",
      "Epoch 193/200\n",
      "11368/11368 [==============================] - 10s 874us/step - loss: 0.7173 - acc: 0.8214\n",
      "Epoch 194/200\n",
      "11368/11368 [==============================] - 10s 886us/step - loss: 0.7369 - acc: 0.8131\n",
      "Epoch 195/200\n",
      "11368/11368 [==============================] - 10s 881us/step - loss: 0.7419 - acc: 0.8122\n",
      "Epoch 196/200\n",
      "11368/11368 [==============================] - 10s 856us/step - loss: 0.7150 - acc: 0.8176\n",
      "Epoch 197/200\n",
      "11368/11368 [==============================] - 10s 860us/step - loss: 0.6978 - acc: 0.8242\n",
      "Epoch 198/200\n",
      "11368/11368 [==============================] - 10s 871us/step - loss: 0.6737 - acc: 0.8336\n",
      "Epoch 199/200\n",
      "11368/11368 [==============================] - 10s 859us/step - loss: 0.6635 - acc: 0.8362\n",
      "Epoch 200/200\n",
      "11368/11368 [==============================] - 10s 885us/step - loss: 0.6598 - acc: 0.8353\n"
     ]
    }
   ],
   "source": [
    "# fit model\n",
    "history = model.fit(X, y, batch_size=128, epochs=200,verbose=1)"
   ]
  },
  {
   "cell_type": "code",
   "execution_count": 27,
   "metadata": {},
   "outputs": [
    {
     "name": "stdout",
     "output_type": "stream",
     "text": [
      "dict_keys(['loss', 'acc'])\n"
     ]
    },
    {
     "data": {
      "image/png": "[encoded data removed]",
      "text/plain": [
       "<Figure size 432x288 with 1 Axes>"
      ]
     },
     "metadata": {
      "needs_background": "light"
     },
     "output_type": "display_data"
    }
   ],
   "source": [
    "print(history.history.keys())\n",
    "\n",
    "# summarize history for accuracy\n",
    "plt.plot(history.history['acc'])\n",
    "plt.title('model accuracy')\n",
    "plt.ylabel('accuracy')\n",
    "plt.xlabel('epoch')\n",
    "plt.legend(['train'], loc='upper left')\n",
    "plt.show()"
   ]
  },
  {
   "cell_type": "code",
   "execution_count": null,
   "metadata": {},
   "outputs": [],
   "source": [
    "# save the model to file\n",
    "model.save('epoch_200.h5')\n",
    "\n",
    "# save the tokenizer\n",
    "dump(tokenizer, open('tokenizer', 'wb'))"
   ]
  },
  {
   "cell_type": "code",
   "execution_count": 28,
   "metadata": {},
   "outputs": [],
   "source": [
    "seed_text = ' '.join(text_sequences[0])"
   ]
  },
  {
   "cell_type": "code",
   "execution_count": 29,
   "metadata": {},
   "outputs": [
    {
     "data": {
      "text/plain": [
       "'call me ishmael some years ago never mind how long precisely having little or no money in my purse and nothing particular to interest me on'"
      ]
     },
     "execution_count": 29,
     "metadata": {},
     "output_type": "execute_result"
    }
   ],
   "source": [
    "seed_text"
   ]
  },
  {
   "cell_type": "code",
   "execution_count": 30,
   "metadata": {},
   "outputs": [
    {
     "data": {
      "text/plain": [
       "[[964,\n",
       "  14,\n",
       "  265,\n",
       "  51,\n",
       "  263,\n",
       "  416,\n",
       "  87,\n",
       "  222,\n",
       "  129,\n",
       "  111,\n",
       "  962,\n",
       "  262,\n",
       "  50,\n",
       "  43,\n",
       "  37,\n",
       "  321,\n",
       "  7,\n",
       "  23,\n",
       "  555,\n",
       "  3,\n",
       "  150,\n",
       "  261,\n",
       "  6,\n",
       "  2704,\n",
       "  14,\n",
       "  24]]"
      ]
     },
     "execution_count": 30,
     "metadata": {},
     "output_type": "execute_result"
    }
   ],
   "source": [
    "tokenizer.texts_to_sequences([seed_text])"
   ]
  },
  {
   "cell_type": "code",
   "execution_count": 31,
   "metadata": {},
   "outputs": [],
   "source": [
    "# function to generate specific number of words followings a seed text\n",
    "\n",
    "def generate_text(model, tokenizer, seq_len, seed_text, num_gen_words):\n",
    "\n",
    "    output_text = []\n",
    "    \n",
    "    for i in range(num_gen_words):\n",
    "        \n",
    "        encoded_text = tokenizer.texts_to_sequences([seed_text])[0]\n",
    "        pad_encoded = pad_sequences([encoded_text], maxlen=seq_len, truncating='pre')\n",
    "        pred_word_ind = model.predict_classes(pad_encoded, verbose=0)[0]\n",
    "        pred_word = tokenizer.index_word[pred_word_ind] \n",
    "        \n",
    "        seed_text += ' ' + pred_word\n",
    "        \n",
    "        output_text.append(pred_word)\n",
    "        \n",
    "    return ' '.join(output_text)"
   ]
  },
  {
   "cell_type": "code",
   "execution_count": 32,
   "metadata": {},
   "outputs": [
    {
     "data": {
      "text/plain": [
       "'shore i account trying that that the indecorous floor and hunted up the blackness i does trying to be peddling venture on a bed side'"
      ]
     },
     "execution_count": 32,
     "metadata": {},
     "output_type": "execute_result"
    }
   ],
   "source": [
    "generate_text(model,tokenizer,seq_len,seed_text=seed_text,num_gen_words=25)"
   ]
  },
  {
   "cell_type": "code",
   "execution_count": null,
   "metadata": {},
   "outputs": [],
   "source": []
  }
 ],
 "metadata": {
  "kernelspec": {
   "display_name": "Python 3",
   "language": "python",
   "name": "python3"
  },
  "language_info": {
   "codemirror_mode": {
    "name": "ipython",
    "version": 3
   },
   "file_extension": ".py",
   "mimetype": "text/x-python",
   "name": "python",
   "nbconvert_exporter": "python",
   "pygments_lexer": "ipython3",
   "version": "3.7.7"
  }
 },
 "nbformat": 4,
 "nbformat_minor": 4
}
